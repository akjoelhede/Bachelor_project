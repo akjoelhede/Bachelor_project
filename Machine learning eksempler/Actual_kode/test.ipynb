{
 "cells": [
  {
   "cell_type": "code",
   "execution_count": 61,
   "metadata": {},
   "outputs": [
    {
     "name": "stdout",
     "output_type": "stream",
     "text": [
      "<HDF5 file \"fracture_train_data.h5\" (mode r)>\n",
      "<KeysViewHDF5 ['data_index', 'density_train0', 'train_images0', 'train_images1', 'train_labels0']>\n"
     ]
    }
   ],
   "source": [
    "import h5py    \n",
    "import numpy as np\n",
    "import matplotlib.pyplot as plt \n",
    "\n",
    "train_data = h5py.File(\"fracture_train_data.h5\", 'r')\n",
    "\n",
    "print(train_data)\n",
    "print(train_data.keys())\n"
   ]
  },
  {
   "cell_type": "code",
   "execution_count": 62,
   "metadata": {},
   "outputs": [],
   "source": [
    "dataindex = train_data[\"data_index\"]\n",
    "\n",
    "density = train_data[\"density_train0\"]\n",
    "\n",
    "images0 = train_data[\"train_images0\"]\n",
    "\n",
    "images1 = train_data[\"train_images1\"]\n",
    "\n",
    "labels0 = train_data[\"train_labels0\"]"
   ]
  },
  {
   "cell_type": "code",
   "execution_count": 77,
   "metadata": {},
   "outputs": [
    {
     "data": {
      "text/plain": [
       "125"
      ]
     },
     "execution_count": 77,
     "metadata": {},
     "output_type": "execute_result"
    }
   ],
   "source": [
    "len(images1)"
   ]
  },
  {
   "cell_type": "code",
   "execution_count": 64,
   "metadata": {},
   "outputs": [
    {
     "data": {
      "text/plain": [
       "<matplotlib.image.AxesImage at 0x7fde60fdc3d0>"
      ]
     },
     "execution_count": 64,
     "metadata": {},
     "output_type": "execute_result"
    },
    {
     "data": {
      "image/png": "[encoded data removed]",
      "text/plain": [
       "<Figure size 432x288 with 1 Axes>"
      ]
     },
     "metadata": {
      "needs_background": "light"
     },
     "output_type": "display_data"
    }
   ],
   "source": [
    "plt.imshow(images0, aspect='auto')"
   ]
  }
 ],
 "metadata": {
  "interpreter": {
   "hash": "0da968955c69b8c4d6286229eccdd06dc68b834baeb58b655010f4a3602dcd08"
  },
  "kernelspec": {
   "display_name": "Python 3.9.7 ('base')",
   "language": "python",
   "name": "python3"
  },
  "language_info": {
   "codemirror_mode": {
    "name": "ipython",
    "version": 3
   },
   "file_extension": ".py",
   "mimetype": "text/x-python",
   "name": "python",
   "nbconvert_exporter": "python",
   "pygments_lexer": "ipython3",
   "version": "3.8.10"
  },
  "orig_nbformat": 4
 },
 "nbformat": 4,
 "nbformat_minor": 2
}
