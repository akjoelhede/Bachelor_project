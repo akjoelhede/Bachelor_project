{
 "cells": [
  {
   "cell_type": "markdown",
   "metadata": {},
   "source": [
    "First we begin with some import statements. These will load the python packages we need  \n",
    "\n",
    "We are going to need:  \n",
    "**pandas** for datastructures  \n",
    "**numpy** for simple linear algebra and mathematical tricks  \n",
    "**matplotlib** for plotting  \n",
    "**scikit-learn** for svm. \n",
    "**keras** for machine learning. \n",
    "**tensorflow** for machine-learning backing with keras. \n"
   ]
  },
  {
   "cell_type": "code",
   "execution_count": null,
   "metadata": {
    "ExecuteTime": {
     "end_time": "2018-08-03T06:35:56.677175Z",
     "start_time": "2018-08-03T06:35:56.262034Z"
    },
    "scrolled": true
   },
   "outputs": [
    {
     "ename": "",
     "evalue": "",
     "output_type": "error",
     "traceback": [
      "\u001b[1;31mRunning cells with 'Python 3.6.13 ('tensorflow_env')' requires ipykernel package.\n",
      "Run the following command to install 'ipykernel' into the Python environment. \n",
      "Command: 'conda install -n tensorflow_env ipykernel --update-deps --force-reinstall'"
     ]
    }
   ],
   "source": [
    "import pandas as pd\n",
    "import numpy as np\n",
    "import sklearn\n",
    "from sklearn import svm\n",
    "from sklearn.model_selection import GridSearchCV\n",
    "import matplotlib.pyplot as plt\n",
    "from pprint import pprint\n",
    "import tensorflow as tf\n",
    "from tensorflow import keras"
   ]
  },
  {
   "cell_type": "markdown",
   "metadata": {},
   "source": [
    "# Introduction"
   ]
  },
  {
   "cell_type": "markdown",
   "metadata": {},
   "source": [
    "With the following exercise we will build neural networks to expand the analysis of the previous two\n",
    "exercises on linear models and kernel machines.   \n",
    "  \n",
    "The exercise uses the Keras library, which includes various routines and methods for formulating deep learning models.   \n",
    "Keras runs on top of various frameworks such as Tensorflow or the Microsoft Cognitive Toolkit.  \n",
    "Here we will use the default framework, TensorFlow.  \n",
    "  \n",
    "The library supports both CPU and GPU implementations, but we will restrict our computations to the CPU, i.e. the data we consider is limited in size. That being said, the exercise provides a good background to get started with the analysis of more complex problems."
   ]
  },
  {
   "cell_type": "markdown",
   "metadata": {},
   "source": [
    "# Data"
   ]
  },
  {
   "cell_type": "markdown",
   "metadata": {},
   "source": [
    "In addition to the big five items in the previous exercise, we now consider an enlarged questionnaire dataset\n",
    "with additional items addressing non-personality subjects such as spare time activities, relation to family\n",
    "embers etc. In total there are now **271** items (instead of only the 43) in addition to the gender variable.  \n",
    "With this number of variables, the convergence of the linear model becomes an issue, and some feature engineering would be needed. In\n",
    "contrast, the “engineering” part is avoided using the deep learning model.  \n",
    "  \n",
    "Before we start with the learning part, we have to scale our data and pick out proper training, validation and test\n",
    "sets."
   ]
  },
  {
   "cell_type": "code",
   "execution_count": 2,
   "metadata": {},
   "outputs": [],
   "source": [
    "### Load, scale and fix data\n",
    "dat1 = pd.read_table('RGender_all_filt.dat', delimiter=' ')              # Load\n",
    "#dat1 = dat1.transpose()\n",
    "dat1_scaled = dat1 / dat1.max()                                 # Scale\n",
    "dat1_scaled = dat1_scaled.where(dat1_scaled >= 0, other = -1);  # Only get answers above or equal to 0, everything else set to -1"
   ]
  },
  {
   "cell_type": "code",
   "execution_count": 3,
   "metadata": {},
   "outputs": [],
   "source": [
    "### Make a feature and target dataframe\n",
    "answers = dat1_scaled.iloc[:,1::]                   # Make a DataFrame \"answers\" as a copy of all the data but without the gender column (The 0'th col)\n",
    "gender  = dat1_scaled.iloc[:,0:1]                   # Copy gender to its own variable (We are going to try and predict this one)"
   ]
  },
  {
   "cell_type": "code",
   "execution_count": null,
   "metadata": {},
   "outputs": [],
   "source": []
  },
  {
   "cell_type": "markdown",
   "metadata": {},
   "source": [
    "Once the data is cured and ready, we load the Keras library and convert the data to a structure readable by\n",
    "Keras"
   ]
  },
  {
   "cell_type": "code",
   "execution_count": 4,
   "metadata": {},
   "outputs": [],
   "source": [
    "### Make training and validation sets\n",
    "m = range(len(answers)) # 0,1,2,3,...,n - where n is the number of answers\n",
    "np.random.seed(42)  # Create a seed so we can compare with other runs who run the program\n",
    "svm_learn_idx, svm_valid_idx = sklearn.model_selection.train_test_split( m , test_size = 0.25) # shuffle m into learning and validation set.\n",
    "x_learn = answers.iloc[svm_learn_idx] # Answers\n",
    "x_valid = answers.iloc[svm_valid_idx] # Answes\n",
    "y_learn = gender.iloc[svm_learn_idx]  # Gender\n",
    "y_valid = gender.iloc[svm_valid_idx]  # Gender"
   ]
  },
  {
   "cell_type": "markdown",
   "metadata": {},
   "source": [
    "# Building a neural network in Keras"
   ]
  },
  {
   "cell_type": "markdown",
   "metadata": {},
   "source": [
    "The power of Keras is the simplicity by which models are constructed. We define a model in terms of a\n",
    "sequential stack of layers which together form our neural network.  \n",
    "  \n",
    "The construction of the network is like building with LEGO bricks, where the individual layers in the network\n",
    "correspond to the bricks.  \n",
    "Each time we add a new brick or layer it is added on top of\n",
    "the existing network. The network below have 3 layers."
   ]
  },
  {
   "cell_type": "code",
   "execution_count": null,
   "metadata": {},
   "outputs": [],
   "source": []
  },
  {
   "cell_type": "code",
   "execution_count": 5,
   "metadata": {},
   "outputs": [],
   "source": [
    "### Make model\n",
    "from tensorflow.keras.layers import Dropout\n",
    "model = keras.models.Sequential()\n",
    "n = x_learn.shape[1]\n",
    "model.add(keras.layers.Dense(8, activation='relu', input_shape=(n,)))\n",
    "model.add(Dropout(0.4))\n",
    "model.add(keras.layers.Dense(8, activation='relu'))\n",
    "model.add(Dropout(0.25))\n",
    "model.add(keras.layers.Dense(1, activation='sigmoid'))"
   ]
  },
  {
   "cell_type": "markdown",
   "metadata": {},
   "source": [
    "Here the model is build by first adding a dense layer with 16 units, then a dense layer with 4 units and finally\n",
    "a dense layer of a single unit. A layer is said to be dense, if every entry in the input to a layer connects to all\n",
    "units in that layer. Details about the model can be seen by"
   ]
  },
  {
   "cell_type": "code",
   "execution_count": 6,
   "metadata": {},
   "outputs": [
    {
     "name": "stdout",
     "output_type": "stream",
     "text": [
      "Model: \"sequential\"\n",
      "_________________________________________________________________\n",
      " Layer (type)                Output Shape              Param #   \n",
      "=================================================================\n",
      " dense (Dense)               (None, 8)                 2176      \n",
      "                                                                 \n",
      " dropout (Dropout)           (None, 8)                 0         \n",
      "                                                                 \n",
      " dense_1 (Dense)             (None, 8)                 72        \n",
      "                                                                 \n",
      " dropout_1 (Dropout)         (None, 8)                 0         \n",
      "                                                                 \n",
      " dense_2 (Dense)             (None, 1)                 9         \n",
      "                                                                 \n",
      "=================================================================\n",
      "Total params: 2,257\n",
      "Trainable params: 2,257\n",
      "Non-trainable params: 0\n",
      "_________________________________________________________________\n"
     ]
    }
   ],
   "source": [
    "model.summary()"
   ]
  },
  {
   "cell_type": "markdown",
   "metadata": {},
   "source": [
    "A simple model like this end up with a huger number of parameters! It really shows that there always\n",
    "is a latent risk for over-fitting.  \n",
    "  \n",
    "Next, we compile the model and specify which loss function should be used to evaluate the quality of the\n",
    "network output. We also specify the optimization algorithm used to train our network."
   ]
  },
  {
   "cell_type": "code",
   "execution_count": 7,
   "metadata": {},
   "outputs": [],
   "source": [
    "### Compile model\n",
    "model.compile(optimizer=keras.optimizers.RMSprop(learning_rate=0.001), loss='binary_crossentropy', metrics=['accuracy'])"
   ]
  },
  {
   "cell_type": "markdown",
   "metadata": {},
   "source": [
    "Finally, we train our our model (or fit) calling the fit function. The fit function takes as input a number\n",
    "of variables, such as the number of training runs (epochs), the batch size for each training round and a\n",
    "validation set (here specified to be 30% randomly selected from the data."
   ]
  },
  {
   "cell_type": "code",
   "execution_count": 9,
   "metadata": {},
   "outputs": [],
   "source": [
    "## Run model\n",
    "hist = model.fit(x_learn, y_learn, batch_size=36, epochs=100, validation_split=0.2, verbose=0);"
   ]
  },
  {
   "cell_type": "code",
   "execution_count": 11,
   "metadata": {},
   "outputs": [
    {
     "data": {
      "image/png": "[encoded data removed]",
      "text/plain": [
       "<Figure size 432x288 with 1 Axes>"
      ]
     },
     "metadata": {
      "needs_background": "light"
     },
     "output_type": "display_data"
    },
    {
     "data": {
      "image/png": "[encoded data removed]",
      "text/plain": [
       "<Figure size 432x288 with 1 Axes>"
      ]
     },
     "metadata": {
      "needs_background": "light"
     },
     "output_type": "display_data"
    }
   ],
   "source": [
    "plt.figure()\n",
    "plt.plot(hist.history['val_loss'], 'b')\n",
    "plt.plot(hist.history['loss'], 'r')\n",
    "plt.ylabel('loss')\n",
    "\n",
    "plt.figure()\n",
    "plt.plot(hist.history['val_accuracy'], 'b')\n",
    "plt.plot(hist.history['accuracy'], 'r')\n",
    "plt.ylabel('acc')\n",
    "plt.xlabel('epoch');"
   ]
  },
  {
   "cell_type": "code",
   "execution_count": 12,
   "metadata": {},
   "outputs": [
    {
     "name": "stdout",
     "output_type": "stream",
     "text": [
      "8/8 [==============================] - 0s 1ms/step - loss: 0.7941 - accuracy: 0.8347\n",
      "[0.7941034436225891, 0.8347457647323608]\n",
      "['loss', 'accuracy']\n"
     ]
    }
   ],
   "source": [
    "### Use model to predict\n",
    "print(model.evaluate(x_valid, y_valid))\n",
    "print(model.metrics_names) # We are interested in the accuracy score here. \n",
    "# You can read about loss here: https://keras.io/losses/ \n",
    "# & https://developers.google.com/machine-learning/crash-course/descending-into-ml/training-and-loss\n",
    "# & https://stackoverflow.com/questions/34518656/how-to-interpret-loss-and-accuracy-for-a-machine-learning-model"
   ]
  },
  {
   "cell_type": "code",
   "execution_count": 13,
   "metadata": {},
   "outputs": [
    {
     "data": {
      "text/plain": [
       "array([[ True],\n",
       "       [ True],\n",
       "       [ True],\n",
       "       [ True],\n",
       "       [False],\n",
       "       [ True],\n",
       "       [ True],\n",
       "       [ True],\n",
       "       [ True],\n",
       "       [ True]])"
      ]
     },
     "execution_count": 13,
     "metadata": {},
     "output_type": "execute_result"
    }
   ],
   "source": [
    "### See prediction\n",
    "prediction = (model.predict(x_valid) > 0.5)\n",
    "prediction[0:10]"
   ]
  },
  {
   "cell_type": "code",
   "execution_count": 14,
   "metadata": {},
   "outputs": [
    {
     "data": {
      "text/html": [
       "<div>\n",
       "<style scoped>\n",
       "    .dataframe tbody tr th:only-of-type {\n",
       "        vertical-align: middle;\n",
       "    }\n",
       "\n",
       "    .dataframe tbody tr th {\n",
       "        vertical-align: top;\n",
       "    }\n",
       "\n",
       "    .dataframe thead th {\n",
       "        text-align: right;\n",
       "    }\n",
       "</style>\n",
       "<table border=\"1\" class=\"dataframe\">\n",
       "  <thead>\n",
       "    <tr style=\"text-align: right;\">\n",
       "      <th></th>\n",
       "      <th>gender</th>\n",
       "    </tr>\n",
       "  </thead>\n",
       "  <tbody>\n",
       "    <tr>\n",
       "      <th>u335</th>\n",
       "      <td>False</td>\n",
       "    </tr>\n",
       "    <tr>\n",
       "      <th>u585</th>\n",
       "      <td>True</td>\n",
       "    </tr>\n",
       "    <tr>\n",
       "      <th>u852</th>\n",
       "      <td>True</td>\n",
       "    </tr>\n",
       "    <tr>\n",
       "      <th>u372</th>\n",
       "      <td>True</td>\n",
       "    </tr>\n",
       "    <tr>\n",
       "      <th>u31</th>\n",
       "      <td>False</td>\n",
       "    </tr>\n",
       "    <tr>\n",
       "      <th>u523</th>\n",
       "      <td>False</td>\n",
       "    </tr>\n",
       "    <tr>\n",
       "      <th>u733</th>\n",
       "      <td>True</td>\n",
       "    </tr>\n",
       "    <tr>\n",
       "      <th>u823</th>\n",
       "      <td>True</td>\n",
       "    </tr>\n",
       "    <tr>\n",
       "      <th>u24</th>\n",
       "      <td>True</td>\n",
       "    </tr>\n",
       "    <tr>\n",
       "      <th>u880</th>\n",
       "      <td>True</td>\n",
       "    </tr>\n",
       "  </tbody>\n",
       "</table>\n",
       "</div>"
      ],
      "text/plain": [
       "      gender\n",
       "u335   False\n",
       "u585    True\n",
       "u852    True\n",
       "u372    True\n",
       "u31    False\n",
       "u523   False\n",
       "u733    True\n",
       "u823    True\n",
       "u24     True\n",
       "u880    True"
      ]
     },
     "execution_count": 14,
     "metadata": {},
     "output_type": "execute_result"
    }
   ],
   "source": [
    "### Compare it yourself with actual target\n",
    "actual = y_valid != 0\n",
    "actual[0:10]"
   ]
  },
  {
   "cell_type": "code",
   "execution_count": null,
   "metadata": {},
   "outputs": [],
   "source": []
  },
  {
   "cell_type": "code",
   "execution_count": 10,
   "metadata": {},
   "outputs": [
    {
     "name": "stdout",
     "output_type": "stream",
     "text": [
      "Downloading data from https://storage.googleapis.com/tensorflow/tf-keras-datasets/mnist.npz\n",
      "11493376/11490434 [==============================] - 0s 0us/step\n",
      "11501568/11490434 [==============================] - 0s 0us/step\n",
      "x_train shape: (60000, 28, 28, 1)\n",
      "60000 train samples\n",
      "10000 test samples\n",
      "Epoch 1/4\n",
      "469/469 [==============================] - 106s 223ms/step - loss: 2.3004 - accuracy: 0.1022 - val_loss: 2.2926 - val_accuracy: 0.1109\n",
      "Epoch 2/4\n",
      "469/469 [==============================] - 101s 215ms/step - loss: 2.2911 - accuracy: 0.1198 - val_loss: 2.2828 - val_accuracy: 0.1290\n",
      "Epoch 3/4\n",
      "469/469 [==============================] - 101s 214ms/step - loss: 2.2816 - accuracy: 0.1360 - val_loss: 2.2715 - val_accuracy: 0.1544\n",
      "Epoch 4/4\n",
      "469/469 [==============================] - 96s 205ms/step - loss: 2.2705 - accuracy: 0.1538 - val_loss: 2.2573 - val_accuracy: 0.1963\n",
      "Test loss: 2.2573044300079346\n",
      "Test accuracy: 0.19629999995231628\n"
     ]
    }
   ],
   "source": [
    "#from __future__ import print_function\n",
    "#import keras\n",
    "from keras.datasets import mnist\n",
    "#from keras.models import Sequential\n",
    "#from keras.layers import Dense, Dropout, Flatten\n",
    "#from keras.layers import Conv2D, MaxPooling2D\n",
    "#from keras import backend as K\n",
    "\n",
    "batch_size = 128\n",
    "num_classes = 10\n",
    "epochs = 4\n",
    "\n",
    "# input image dimensions\n",
    "img_rows, img_cols = 28, 28\n",
    "\n",
    "# the data, split between train and test sets\n",
    "(x_train, y_train), (x_test, y_test) = mnist.load_data()\n",
    "\n",
    "if tf.keras.backend.image_data_format() == 'channels_first':\n",
    "    x_train = x_train.reshape(x_train.shape[0], 1, img_rows, img_cols)\n",
    "    x_test = x_test.reshape(x_test.shape[0], 1, img_rows, img_cols)\n",
    "    input_shape = (1, img_rows, img_cols)\n",
    "else:\n",
    "    x_train = x_train.reshape(x_train.shape[0], img_rows, img_cols, 1)\n",
    "    x_test = x_test.reshape(x_test.shape[0], img_rows, img_cols, 1)\n",
    "    input_shape = (img_rows, img_cols, 1)\n",
    "\n",
    "x_train = x_train.astype('float32')\n",
    "x_test = x_test.astype('float32')\n",
    "x_train /= 255\n",
    "x_test /= 255\n",
    "print('x_train shape:', x_train.shape)\n",
    "print(x_train.shape[0], 'train samples')\n",
    "print(x_test.shape[0], 'test samples')\n",
    "\n",
    "# convert class vectors to binary class matrices\n",
    "y_train = keras.utils.to_categorical(y_train, num_classes)\n",
    "y_test = keras.utils.to_categorical(y_test, num_classes)\n",
    "\n",
    "model = keras.models.Sequential()\n",
    "model.add(keras.layers.Conv2D(32, kernel_size=(3, 3),\n",
    "                 activation='relu',\n",
    "                 input_shape=input_shape))\n",
    "model.add(keras.layers.Conv2D(32, (3, 3), activation='relu'))\n",
    "model.add(keras.layers.MaxPooling2D(pool_size=(2, 2)))\n",
    "model.add(keras.layers.Dropout(0.25))\n",
    "model.add(keras.layers.Flatten())\n",
    "model.add(keras.layers.Dense(16, activation='relu'))\n",
    "model.add(keras.layers.Dropout(0.5))\n",
    "model.add(keras.layers.Dense(num_classes, activation='softmax'))\n",
    "\n",
    "model.compile(loss=keras.losses.categorical_crossentropy,\n",
    "              optimizer=keras.optimizers.Adadelta(),\n",
    "              metrics=['accuracy'])\n",
    "\n",
    "model.fit(x_train, y_train,\n",
    "          batch_size=batch_size,\n",
    "          epochs=epochs,\n",
    "          verbose=1,\n",
    "          validation_data=(x_test, y_test))\n",
    "score = model.evaluate(x_test, y_test, verbose=0)\n",
    "print('Test loss:', score[0])\n",
    "print('Test accuracy:', score[1])"
   ]
  },
  {
   "cell_type": "code",
   "execution_count": null,
   "metadata": {},
   "outputs": [],
   "source": []
  },
  {
   "cell_type": "code",
   "execution_count": null,
   "metadata": {},
   "outputs": [],
   "source": []
  },
  {
   "cell_type": "code",
   "execution_count": null,
   "metadata": {},
   "outputs": [],
   "source": []
  }
 ],
 "metadata": {
  "kernelspec": {
   "display_name": "Python 3 (ipykernel)",
   "language": "python",
   "name": "python3"
  },
  "language_info": {
   "codemirror_mode": {
    "name": "ipython",
    "version": 3
   },
   "file_extension": ".py",
   "mimetype": "text/x-python",
   "name": "python",
   "nbconvert_exporter": "python",
   "pygments_lexer": "ipython3",
   "version": "3.6.13"
  }
 },
 "nbformat": 4,
 "nbformat_minor": 4
}
